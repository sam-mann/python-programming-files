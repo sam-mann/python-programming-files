{
 "cells": [
  {
   "cell_type": "code",
   "execution_count": 8,
   "metadata": {},
   "outputs": [
    {
     "name": "stdout",
     "output_type": "stream",
     "text": [
      "Enter marks of the first subject: 75\n",
      "Enter marks of the second subject: 76\n",
      "Enter marks of the third subject: 77\n",
      "Enter marks of the fourth subject: 78\n",
      "Enter marks of the fifth subject: 79\n",
      "percentage is 77.0\n",
      "Grade: C\n"
     ]
    }
   ],
   "source": [
    "sub1=input(\"Enter marks of the first subject: \")\n",
    "sub2=input(\"Enter marks of the second subject: \")\n",
    "sub3=input(\"Enter marks of the third subject: \")\n",
    "sub4=input(\"Enter marks of the fourth subject: \")\n",
    "sub5=input(\"Enter marks of the fifth subject: \")\n",
    "sum=(int(sub1)+int(sub2)+int(sub3)+int(sub4)+int(sub5));\n",
    "total=500;\n",
    "per=(sum*100/total);\n",
    "print(\"percentage is\",per)\n",
    "if(per>=90):\n",
    "    print(\"Grade: A\")\n",
    "elif(per>=80 and per<90):\n",
    "    print(\"Grade: B\")\n",
    "elif(per>=70 and per<80):\n",
    "    print(\"Grade: C\")\n",
    "elif(per>=60 and per<70):\n",
    "    print(\"Grade: D\")\n",
    "else:\n",
    "    print(\"Grade: F\")"
   ]
  },
  {
   "cell_type": "code",
   "execution_count": 12,
   "metadata": {},
   "outputs": [
    {
     "name": "stdout",
     "output_type": "stream",
     "text": [
      "Enter a number: 7\n",
      "This is an odd number.\n"
     ]
    }
   ],
   "source": [
    "num = int(input(\"Enter a number: \"))\n",
    "x = num % 2\n",
    "if x > 0:\n",
    "    print(\"This is an odd number.\")\n",
    "else:\n",
    "    print(\"This is an even number.\")"
   ]
  },
  {
   "cell_type": "code",
   "execution_count": 11,
   "metadata": {},
   "outputs": [
    {
     "name": "stdout",
     "output_type": "stream",
     "text": [
      "the length of list is :- 7\n"
     ]
    }
   ],
   "source": [
    "num=len([1,2,3,4,5,6,7])\n",
    "print(\"the length of list is :-\",num)"
   ]
  },
  {
   "cell_type": "code",
   "execution_count": 28,
   "metadata": {},
   "outputs": [
    {
     "name": "stdout",
     "output_type": "stream",
     "text": [
      "Sum of all elements in given list:  74\n"
     ]
    }
   ],
   "source": [
    "total = 0\n",
    "list1 = [11, 5, 17, 18, 23]  \n",
    "for ele in range(0, len(list1)): \n",
    "    total = total + list1[ele]  \n",
    "print(\"Sum of all elements in given list: \", total) "
   ]
  },
  {
   "cell_type": "code",
   "execution_count": 30,
   "metadata": {},
   "outputs": [
    {
     "name": "stdout",
     "output_type": "stream",
     "text": [
      "Largest element is: 22\n"
     ]
    }
   ],
   "source": [
    "list1 = [5, 9, 2, 22, 7] \n",
    "print(\"Largest element is:\", max(list1)) "
   ]
  },
  {
   "cell_type": "code",
   "execution_count": 33,
   "metadata": {},
   "outputs": [
    {
     "name": "stdout",
     "output_type": "stream",
     "text": [
      "-1\n",
      "0\n",
      "1\n",
      "4\n",
      "2\n",
      "3\n"
     ]
    }
   ],
   "source": [
    "a = [-1, 0, 1, 4, 2, 3, 5, 8, 13, 21, 34, 55, 89]\n",
    "\n",
    "for i in a:\n",
    "\n",
    "    if i < 5:\n",
    "\n",
    "        print(i)"
   ]
  },
  {
   "cell_type": "code",
   "execution_count": null,
   "metadata": {},
   "outputs": [],
   "source": []
  }
 ],
 "metadata": {
  "kernelspec": {
   "display_name": "Python 3",
   "language": "python",
   "name": "python3"
  }
 },
 "nbformat": 4,
 "nbformat_minor": 2
}
