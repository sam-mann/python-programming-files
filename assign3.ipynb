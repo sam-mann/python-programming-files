{
 "cells": [
  {
   "cell_type": "code",
   "execution_count": 7,
   "metadata": {},
   "outputs": [
    {
     "name": "stdout",
     "output_type": "stream",
     "text": [
      "\"\n",
      "Please type in the math operation you would like to complete:\n",
      "+ for addition\n",
      "- for subtraction\n",
      "* for multiplication\n",
      "/ for division\n",
      "** for power\n",
      "**\n",
      "Enter your first number: 2\n",
      "Enter your second number: 3\n",
      "2 ** 3 = \n",
      "8\n"
     ]
    }
   ],
   "source": [
    "operation = input(\"\"\"\"\n",
    "Please type in the math operation you would like to complete:\n",
    "+ for addition\n",
    "- for subtraction\n",
    "* for multiplication\n",
    "/ for division\n",
    "** for power\n",
    "\"\"\")\n",
    "\n",
    "number_1 = int(input(\"Enter your first number: \"))\n",
    "number_2 = int(input(\"Enter your second number: \"))\n",
    "\n",
    "if operation == \"+\":\n",
    "    print(\"{} + {} = \".format(number_1, number_2))\n",
    "    print(number_1 + number_2)\n",
    "\n",
    "elif operation == \"-\":\n",
    "    print(\"{} - {} = \".format(number_1, number_2))\n",
    "    print(number_1 - number_2)\n",
    "\n",
    "elif operation == \"*\":\n",
    "    print(\"{} * {} = \".format(number_1, number_2))\n",
    "    print(number_1 * number_2)\n",
    "\n",
    "elif operation == \"/\":\n",
    "    print(\"{} / {} = \".format(number_1, number_2))\n",
    "    print(number_1 / number_2)\n",
    "\n",
    "elif operation == \"**\":\n",
    "    print(\"{} ** {} = \".format(number_1, number_2))\n",
    "    print(number_1 ** number_2)\n",
    "\n",
    "else:\n",
    "    print(\"You have not typed a valid operator, please run the program again.\")"
   ]
  },
  {
   "cell_type": "code",
   "execution_count": 9,
   "metadata": {},
   "outputs": [
    {
     "name": "stdout",
     "output_type": "stream",
     "text": [
      "15 is a numeric value in list\n",
      "10 is a numeric value in list\n",
      "2 is a numeric value in list\n",
      "4 is a numeric value in list\n",
      "19.9 is a numeric value in list\n",
      "5.9 is a numeric value in list\n"
     ]
    }
   ],
   "source": [
    "lst=['sam','ali',15,10,2,4,'hey',19.9,5.9]\n",
    "for i in lst:\n",
    "    if type(i) == int:\n",
    "        print(i,\"is a numeric value in list\")\n",
    "    elif type(i)==float: \n",
    "        print(i,\"is a numeric value in list\")"
   ]
  },
  {
   "cell_type": "code",
   "execution_count": 12,
   "metadata": {},
   "outputs": [
    {
     "name": "stdout",
     "output_type": "stream",
     "text": [
      "enter the key :sam\n",
      "enter the value :mann\n",
      "{'sam': 'mann'}\n"
     ]
    }
   ],
   "source": [
    "dict ={}\n",
    "k_input=input(\"enter the key :\")\n",
    "v_input=input(\"enter the value :\")\n",
    "\n",
    "dict.update({k_input:v_input})\n",
    "\n",
    "print(dict)"
   ]
  },
  {
   "cell_type": "code",
   "execution_count": 13,
   "metadata": {},
   "outputs": [
    {
     "name": "stdout",
     "output_type": "stream",
     "text": [
      "Total sum of values in the dictionary:\n",
      "87\n"
     ]
    }
   ],
   "source": [
    "d={'A':10,'B':54,'C':23}\n",
    "print(\"Total sum of values in the dictionary:\")\n",
    "print(sum(d.values()))"
   ]
  },
  {
   "cell_type": "code",
   "execution_count": 15,
   "metadata": {},
   "outputs": [
    {
     "name": "stdout",
     "output_type": "stream",
     "text": [
      "[3, 9, 12]\n"
     ]
    }
   ],
   "source": [
    "lst = [ 3, 6, 9, 12, 3, 30, 15, 9, 45, 36, 12, 12]\n",
    "dupItems = []\n",
    "uniqItems = {}\n",
    "for x in lst:\n",
    "   if x not in uniqItems:\n",
    "      uniqItems[x] = 1\n",
    "   else:\n",
    "      if uniqItems[x] == 1:\n",
    "         dupItems.append(x)\n",
    "      uniqItems[x] += 1\n",
    "print(dupItems)"
   ]
  },
  {
   "cell_type": "code",
   "execution_count": 18,
   "metadata": {},
   "outputs": [
    {
     "name": "stdout",
     "output_type": "stream",
     "text": [
      "Enter key to check:A\n",
      "Key is present and value of the key is:\n",
      "1\n"
     ]
    }
   ],
   "source": [
    "d={'A':1,'B':2,'C':3}\n",
    "key=input(\"Enter key to check:\")\n",
    "if key in d.keys():\n",
    "      print(\"Key is present and value of the key is:\")\n",
    "      print(d[key])\n",
    "else:\n",
    "      print(\"Key isn't present!\")"
   ]
  },
  {
   "cell_type": "code",
   "execution_count": null,
   "metadata": {},
   "outputs": [],
   "source": []
  }
 ],
 "metadata": {
  "kernelspec": {
   "display_name": "Python 3",
   "language": "python",
   "name": "python3"
  },
  "language_info": {
   "codemirror_mode": {
    "name": "ipython",
    "version": 3
   },
   "file_extension": ".py",
   "mimetype": "text/x-python",
   "name": "python",
   "nbconvert_exporter": "python",
   "pygments_lexer": "ipython3",
   "version": "3.7.4"
  }
 },
 "nbformat": 4,
 "nbformat_minor": 2
}
